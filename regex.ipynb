{
 "cells": [
  {
   "cell_type": "markdown",
   "metadata": {},
   "source": [
    "### Regex Exercises\n",
    "For each question below, enter a regex that matches all the positive examples but none of those in negative examples. An example question and its solution is presented below.\n",
    "\n",
    "You will find there are many regexps that can distinguish these small sets. Programming with regexps is an art...and debugging needs trial and error. \n",
    "\n",
    "Refer to the re documentation in \n",
    "\n",
    "https://docs.python.org/3/howto/regex.html\n",
    "\n",
    "and in \n",
    "\n",
    "https://docs.python.org/3/howto/regex.html (only as a reference) "
   ]
  },
  {
   "cell_type": "code",
   "execution_count": 1,
   "metadata": {},
   "outputs": [
    {
     "name": "stdout",
     "output_type": "stream",
     "text": [
      "['abcdefg', 'abcde', 'abcd']\n"
     ]
    },
    {
     "data": {
      "text/plain": [
       "True"
      ]
     },
     "execution_count": 1,
     "metadata": {},
     "output_type": "execute_result"
    }
   ],
   "source": [
    "# example question\n",
    "import re\n",
    "pos_examples = ['abcdefg','abcde','abcd']\n",
    "neg_examples = ['abc']\n",
    "\n",
    "# This function returns True if the pattern meets all requirements, \n",
    "# and returns False otherwise.\n",
    "# You can re-use this function below\n",
    "def check_correctness(pos_list, neg_list, pattern):\n",
    "    all_examples = pos_list + neg_list\n",
    "    found_items = [entry for entry in all_examples if \n",
    "                   re.search(pattern, entry)]\n",
    "    print(found_items) # you could uncomment this line for debugging purpose\n",
    "    return found_items == pos_list \n",
    "\n",
    "pattern = r'abc.+'\n",
    "check_correctness(pos_examples, neg_examples, pattern)"
   ]
  },
  {
   "cell_type": "code",
   "execution_count": 2,
   "metadata": {},
   "outputs": [
    {
     "name": "stdout",
     "output_type": "stream",
     "text": [
      "['quickly', 'bravely', 'slowly', 'jellyfish']\n"
     ]
    },
    {
     "data": {
      "text/plain": [
       "False"
      ]
     },
     "execution_count": 2,
     "metadata": {},
     "output_type": "execute_result"
    }
   ],
   "source": [
    "# exercise 1 : find words ending in 'ly'\n",
    "pos_examples = [ 'quickly', 'bravely', 'slowly']\n",
    "neg_examples = [ 'quick', 'gnu', 'wildebeeste', 'jellyfish']\n",
    "pattern = r'ly'\n",
    "check_correctness( pos_examples, neg_examples, pattern )"
   ]
  },
  {
   "cell_type": "code",
   "execution_count": 39,
   "metadata": {},
   "outputs": [
    {
     "name": "stdout",
     "output_type": "stream",
     "text": [
      "['abc123xyz', 'define \"123\"', 'var g = 123;']\n"
     ]
    },
    {
     "data": {
      "text/plain": [
       "True"
      ]
     },
     "execution_count": 39,
     "metadata": {},
     "output_type": "execute_result"
    }
   ],
   "source": [
    "# exercise 1\n",
    "pos_examples = ['abc123xyz','define \"123\"','var g = 123;']\n",
    "neg_examples = ['xij456zki','1tom2toni3','123okq,123']\n",
    "pattern = r'.123.'\n",
    "check_correctness(pos_examples, neg_examples, pattern)"
   ]
  },
  {
   "cell_type": "code",
   "execution_count": 130,
   "metadata": {},
   "outputs": [
    {
     "name": "stdout",
     "output_type": "stream",
     "text": [
      "['cat.', '896.', '?=\\\\.']\n"
     ]
    },
    {
     "data": {
      "text/plain": [
       "True"
      ]
     },
     "execution_count": 130,
     "metadata": {},
     "output_type": "execute_result"
    }
   ],
   "source": [
    "# exercise 2\n",
    "pos_examples = ['cat.','896.','?=\\.']\n",
    "neg_examples = ['abc1','7s9?','a b.','hello.']\n",
    "pattern = r'^[\\S]{3}\\.'\n",
    "check_correctness(pos_examples, neg_examples, pattern)"
   ]
  },
  {
   "cell_type": "code",
   "execution_count": 146,
   "metadata": {},
   "outputs": [
    {
     "name": "stdout",
     "output_type": "stream",
     "text": [
      "['can', 'man', 'fan']\n"
     ]
    },
    {
     "data": {
      "text/plain": [
       "True"
      ]
     },
     "execution_count": 146,
     "metadata": {},
     "output_type": "execute_result"
    }
   ],
   "source": [
    "# exercise 3\n",
    "pos_examples = ['can','man','fan']\n",
    "neg_examples = ['dan','ran','pan','world','cannot']\n",
    "pattern = r'[cmf][a][n]$'\n",
    "check_correctness(pos_examples, neg_examples, pattern)"
   ]
  },
  {
   "cell_type": "code",
   "execution_count": 144,
   "metadata": {},
   "outputs": [
    {
     "name": "stdout",
     "output_type": "stream",
     "text": [
      "['hog', 'bog']\n"
     ]
    },
    {
     "data": {
      "text/plain": [
       "True"
      ]
     },
     "execution_count": 144,
     "metadata": {},
     "output_type": "execute_result"
    }
   ],
   "source": [
    "# exercise 4\n",
    "pos_examples = ['hog','bog']\n",
    "neg_examples = ['dog','boy','ooh','og?']\n",
    "pattern = r'[hb][o][g]$'\n",
    "check_correctness(pos_examples, neg_examples, pattern)"
   ]
  },
  {
   "cell_type": "code",
   "execution_count": 154,
   "metadata": {},
   "outputs": [
    {
     "name": "stdout",
     "output_type": "stream",
     "text": [
      "[]\n"
     ]
    },
    {
     "data": {
      "text/plain": [
       "False"
      ]
     },
     "execution_count": 154,
     "metadata": {},
     "output_type": "execute_result"
    }
   ],
   "source": [
    "# exercise 5\n",
    "pos_examples = ['Ana','Bob','Cpc']\n",
    "neg_examples = ['aAx','bCy','cBB','76k','Hello']\n",
    "pattern = r'[A-Z][a-z]{2}$'\n",
    "pattern = r'^([A-Z])[a-z][^a-z]\\1$'\n",
    "check_correctness(pos_examples, neg_examples, pattern)"
   ]
  },
  {
   "cell_type": "code",
   "execution_count": 149,
   "metadata": {},
   "outputs": [
    {
     "name": "stdout",
     "output_type": "stream",
     "text": [
      "['wazzzzzup', 'wazzzup']\n"
     ]
    },
    {
     "data": {
      "text/plain": [
       "True"
      ]
     },
     "execution_count": 149,
     "metadata": {},
     "output_type": "execute_result"
    }
   ],
   "source": [
    "# exercise 6\n",
    "pos_examples = ['wazzzzzup','wazzzup']\n",
    "neg_examples = ['wazup','wakup','wazdsup','wazzkp']\n",
    "pattern = r'wazz+up'\n",
    "check_correctness(pos_examples, neg_examples, pattern)"
   ]
  },
  {
   "cell_type": "code",
   "execution_count": 170,
   "metadata": {},
   "outputs": [
    {
     "name": "stdout",
     "output_type": "stream",
     "text": [
      "['aaaabcc', 'aabbcc', '?]aa74ccdx']\n"
     ]
    },
    {
     "data": {
      "text/plain": [
       "True"
      ]
     },
     "execution_count": 170,
     "metadata": {},
     "output_type": "execute_result"
    }
   ],
   "source": [
    "# exercise 7\n",
    "pos_examples = ['aaaabcc','aabbcc','?]aa74ccdx']\n",
    "neg_examples = ['a','96aacc']\n",
    "pattern = r'^[^0-9].'\n",
    "check_correctness(pos_examples, neg_examples,pattern)"
   ]
  },
  {
   "cell_type": "code",
   "execution_count": 186,
   "metadata": {},
   "outputs": [
    {
     "name": "stdout",
     "output_type": "stream",
     "text": [
      "['1 file found.', '2 files found.', 'No.24 File found.']\n"
     ]
    },
    {
     "data": {
      "text/plain": [
       "True"
      ]
     },
     "execution_count": 186,
     "metadata": {},
     "output_type": "execute_result"
    }
   ],
   "source": [
    "# exercise 8\n",
    "pos_examples = ['1 file found.','2 files found.','No.24 File found.']\n",
    "neg_examples = ['No files found.','file 1 is found!','2 birds found?']\n",
    "pattern = r'[0-9]{1,} [fF]iles* found.$'\n",
    "check_correctness(pos_examples, neg_examples,pattern)"
   ]
  },
  {
   "cell_type": "code",
   "execution_count": 190,
   "metadata": {},
   "outputs": [
    {
     "name": "stdout",
     "output_type": "stream",
     "text": [
      "['1.\\tabc', '2.\\tabc', '37.\\t\\t\\tabc']\n"
     ]
    },
    {
     "data": {
      "text/plain": [
       "True"
      ]
     },
     "execution_count": 190,
     "metadata": {},
     "output_type": "execute_result"
    }
   ],
   "source": [
    "# exercise 9\n",
    "pos_examples = ['1.\\tabc','2.\\tabc','37.\\t\\t\\tabc']\n",
    "neg_examples = ['4.abc','1.tabc','3\\tabc']\n",
    "pattern = r'[0-9]{1,}[.][\\t]{1,}'\n",
    "check_correctness(pos_examples, neg_examples,pattern)"
   ]
  },
  {
   "cell_type": "code",
   "execution_count": 200,
   "metadata": {},
   "outputs": [
    {
     "name": "stdout",
     "output_type": "stream",
     "text": [
      "['pit', 'spot', 'spate', 'slap two', 'respite']\n"
     ]
    },
    {
     "data": {
      "text/plain": [
       "True"
      ]
     },
     "execution_count": 200,
     "metadata": {},
     "output_type": "execute_result"
    }
   ],
   "source": [
    "# exercise 10\n",
    "pos_examples = ['pit','spot','spate','slap two','respite']\n",
    "neg_examples = ['pt','Pot','peat','part']\n",
    "# pattern = r'[p][a-z ][t]'\n",
    "pattern = r'p.{1}t'\n",
    "check_correctness(pos_examples, neg_examples, pattern)"
   ]
  },
  {
   "cell_type": "code",
   "execution_count": 227,
   "metadata": {},
   "outputs": [
    {
     "name": "stdout",
     "output_type": "stream",
     "text": [
      "010 345 6789\n",
      "010 344 7474\n"
     ]
    }
   ],
   "source": [
    "# to go further, devise some regexes with capture groups ()\n",
    "# See the section on Grouping in https://docs.python.org/3/howto/regex.html\n",
    "\n",
    "# write a regex to extract both the telephone and fax numbers from text \n",
    "# in the form: \n",
    "\n",
    "telnos = 'Tel: 010 345 6789  Fax: 010 344 7474'\n",
    "pattern = r'(?:Tel: (?P<tel>[0-9 ]+))(?:  Fax: (?P<fax>[0-9 ]+))'\n",
    "\n",
    "p = re.compile(pattern)\n",
    "m = p.match(telnos)\n",
    "print(m.group('tel'))  \n",
    "# OR print(m.groupdict()['tel'])\n",
    "print(m.groupdict()['fax'])\n",
    "# print(m.group(1))\n",
    "# print(m.group(2))\n",
    "# print(m.group(1).replace(\" \", \"\"))\n",
    "# print(m.group(2).replace(\" \", \"\"))\n",
    "\n",
    "# allow for the spaces within telephone numbers to be optional"
   ]
  },
  {
   "cell_type": "code",
   "execution_count": null,
   "metadata": {},
   "outputs": [],
   "source": []
  }
 ],
 "metadata": {
  "kernelspec": {
   "display_name": ".venv_nlp",
   "language": "python",
   "name": ".venv_nlp"
  },
  "language_info": {
   "codemirror_mode": {
    "name": "ipython",
    "version": 3
   },
   "file_extension": ".py",
   "mimetype": "text/x-python",
   "name": "python",
   "nbconvert_exporter": "python",
   "pygments_lexer": "ipython3",
   "version": "3.8.8"
  }
 },
 "nbformat": 4,
 "nbformat_minor": 2
}
